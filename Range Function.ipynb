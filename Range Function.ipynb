{
 "cells": [
  {
   "cell_type": "code",
   "execution_count": 6,
   "metadata": {},
   "outputs": [
    {
     "name": "stdout",
     "output_type": "stream",
     "text": [
      "[[0, 1, 2, 3, 4, 5, 6, 7, 8, 9], [1, 2, 3, 4, 5, 6, 7, 8, 9], [], [], [10, 9, 8, 7, 6, 5, 4, 3, 2], [1, 3, 5, 7, 9]]\n"
     ]
    }
   ],
   "source": [
    "print(list(map(list, [range(10), range(1, 10), range(10, 1), range(10, 1, 1), range(10, 1, -1), range(1, 10, 2)])))\n",
    "\n",
    "# range 함수는 C, JS에서 조건문을 쓰는 순서와 유사하다고 생각하면 편리하다. \n",
    "# 단, 증가하는데 목표수가 시작수보다 작으면 조건에 맞지 않아 아무 것도 나오지 않는다."
   ]
  }
 ],
 "metadata": {
  "kernelspec": {
   "display_name": "Python 3",
   "language": "python",
   "name": "python3"
  },
  "language_info": {
   "codemirror_mode": {
    "name": "ipython",
    "version": 3
   },
   "file_extension": ".py",
   "mimetype": "text/x-python",
   "name": "python",
   "nbconvert_exporter": "python",
   "pygments_lexer": "ipython3",
   "version": "3.7.0"
  }
 },
 "nbformat": 4,
 "nbformat_minor": 2
}
