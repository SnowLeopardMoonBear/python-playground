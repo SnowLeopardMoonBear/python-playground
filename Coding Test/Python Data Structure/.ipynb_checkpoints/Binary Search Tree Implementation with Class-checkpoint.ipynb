{
 "cells": [
  {
   "cell_type": "code",
   "execution_count": 24,
   "metadata": {},
   "outputs": [
    {
     "name": "stdout",
     "output_type": "stream",
     "text": [
      "False True\n",
      "7\n"
     ]
    }
   ],
   "source": [
    "# 트리에 들어갈 노드 하나하나\n",
    "class Node:\n",
    "    def __init__(self, value):\n",
    "        self.left = None\n",
    "        self.right = None\n",
    "        self.value = value\n",
    "    \n",
    "    # 노드 삽입하기(노드에서 재귀)\n",
    "    def insert(self, value):\n",
    "        if value < self.value:\n",
    "            if self.left: self.left.insert(value)\n",
    "            else: self.left = Node(value)\n",
    "        else:\n",
    "            if self.right: self.right.insert(value)\n",
    "            else: self.right = Node(value)\n",
    "    \n",
    "    # 노드 탐색하기(노드에서 재귀)\n",
    "    def search(self, value):\n",
    "        if value == self.value:\n",
    "            return True\n",
    "        elif value < self.value:\n",
    "            if self.left: return self.left.search(value) # WARNING: 꼭 return을 넣어줘야 None 값이 뜨지 않음\n",
    "            else: return False\n",
    "        else:\n",
    "            if self.right: return self.right.search(value)\n",
    "            else: return False\n",
    "        \n",
    "# 트리 자체\n",
    "class Tree:\n",
    "    # root node를 만들어 초기화\n",
    "    def __init__(self, root):\n",
    "        self.root = root\n",
    "    \n",
    "    # root node에서 출발해 하위 노드로 재귀하며 삽입\n",
    "    def insert(self, value):\n",
    "        if value < self.root.value:\n",
    "            if self.root.left: self.root.left.insert(value)\n",
    "            else: self.root.left = Node(value)\n",
    "        else:\n",
    "            if self.root.right: self.root.right.insert(value)\n",
    "            else: self.root.right = Node(value)\n",
    "                \n",
    "    # root node에서 출발해 해당 값을 가진 노드가 있는지 탐색\n",
    "    def search(self, value):\n",
    "        if value == self.root.value:\n",
    "            return True\n",
    "        elif value < self.root.value:\n",
    "            if self.root.left: return self.root.left.search(value)\n",
    "            else: return False\n",
    "        else:\n",
    "            if self.root.right: return self.root.right.search(value)\n",
    "            else: return False\n",
    "            \n",
    "sample_tree = Tree(TreeNode(5))\n",
    "sample_tree.insert(7)\n",
    "sample_tree.insert(9)\n",
    "sample_tree.insert(6)\n",
    "\n",
    "print(sample_tree.search(8), sample_tree.search(9))\n",
    "print(sample_tree.root.right.value)"
   ]
  },
  {
   "cell_type": "code",
   "execution_count": null,
   "metadata": {},
   "outputs": [],
   "source": []
  }
 ],
 "metadata": {
  "kernelspec": {
   "display_name": "Python 3",
   "language": "python",
   "name": "python3"
  },
  "language_info": {
   "codemirror_mode": {
    "name": "ipython",
    "version": 3
   },
   "file_extension": ".py",
   "mimetype": "text/x-python",
   "name": "python",
   "nbconvert_exporter": "python",
   "pygments_lexer": "ipython3",
   "version": "3.7.6"
  }
 },
 "nbformat": 4,
 "nbformat_minor": 2
}
