{
 "cells": [
  {
   "cell_type": "code",
   "execution_count": 1,
   "metadata": {},
   "outputs": [],
   "source": [
    "import heapq # import heapq module\n",
    "\n",
    "# heap으로 쓸 리스트를 하나 만들자\n",
    "heap_list = []"
   ]
  },
  {
   "cell_type": "code",
   "execution_count": 2,
   "metadata": {},
   "outputs": [
    {
     "name": "stdout",
     "output_type": "stream",
     "text": [
      "[3, 4, 5]\n"
     ]
    }
   ],
   "source": [
    "# 1. heap에 push하기\n",
    "heapq.heappush(heap_list, 4)\n",
    "heapq.heappush(heap_list, 3)\n",
    "heapq.heappush(heap_list, 5)\n",
    "\n",
    "print(heap_list)"
   ]
  },
  {
   "cell_type": "code",
   "execution_count": 3,
   "metadata": {},
   "outputs": [
    {
     "name": "stdout",
     "output_type": "stream",
     "text": [
      "3\n",
      "[4, 5]\n"
     ]
    }
   ],
   "source": [
    "# 2. heap에서 pop하기\n",
    "print(heapq.heappop(heap_list))\n",
    "print(heap_list)"
   ]
  },
  {
   "cell_type": "code",
   "execution_count": 4,
   "metadata": {},
   "outputs": [
    {
     "name": "stdout",
     "output_type": "stream",
     "text": [
      "[1, 3, 2, 6, 7, 2, 4]\n"
     ]
    }
   ],
   "source": [
    "# 3. 일반 list를 heap으로 만들기\n",
    "list_to_heapify = [1, 3, 2, 6, 7, 2, 4]\n",
    "heapq.heapify(list_to_heapify)\n",
    "print(list_to_heapify)"
   ]
  }
 ],
 "metadata": {
  "kernelspec": {
   "display_name": "Python 3",
   "language": "python",
   "name": "python3"
  },
  "language_info": {
   "codemirror_mode": {
    "name": "ipython",
    "version": 3
   },
   "file_extension": ".py",
   "mimetype": "text/x-python",
   "name": "python",
   "nbconvert_exporter": "python",
   "pygments_lexer": "ipython3",
   "version": "3.7.6"
  }
 },
 "nbformat": 4,
 "nbformat_minor": 2
}
