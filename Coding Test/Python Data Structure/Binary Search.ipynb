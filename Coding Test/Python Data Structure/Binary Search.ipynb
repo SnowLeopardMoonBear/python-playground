{
 "cells": [
  {
   "cell_type": "code",
   "execution_count": 1,
   "metadata": {},
   "outputs": [],
   "source": [
    "# 정렬된 데이터에서 어떻게 이진 탐색을 하는지 구현해보자\n",
    "# 재귀적으로 풀 수도 있으나 코드가 더 복잡하다\n",
    "num_list = [1, 2, 4, 6, 9, 11, 13, 14, 18, 20]\n",
    "def binary_search(num_arr, length, num_to_search):\n",
    "    l, r = 0, length-1\n",
    "    while l <= r:\n",
    "        mid = (l+r) // 2\n",
    "        if num_arr[mid] == num_to_search:\n",
    "            return f'Index is {mid}'\n",
    "        elif num_arr[mid] < num_to_search:\n",
    "            l = mid+1\n",
    "        else:\n",
    "            r = mid-1\n",
    "    return \"Not found!\"\n",
    "\n",
    "print(binary_search(num_list, len(num_list), 9))\n",
    "print(binary_search(num_list, len(num_list), 5))"
   ]
  }
 ],
 "metadata": {
  "kernelspec": {
   "display_name": "Python 3",
   "language": "python",
   "name": "python3"
  },
  "language_info": {
   "codemirror_mode": {
    "name": "ipython",
    "version": 3
   },
   "file_extension": ".py",
   "mimetype": "text/x-python",
   "name": "python",
   "nbconvert_exporter": "python",
   "pygments_lexer": "ipython3",
   "version": "3.7.6"
  }
 },
 "nbformat": 4,
 "nbformat_minor": 2
}
