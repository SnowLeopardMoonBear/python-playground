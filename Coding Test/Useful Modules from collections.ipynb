{
 "cells": [
  {
   "cell_type": "code",
   "execution_count": 1,
   "metadata": {},
   "outputs": [
    {
     "data": {
      "text/plain": [
       "deque([1234, 2423])"
      ]
     },
     "execution_count": 1,
     "metadata": {},
     "output_type": "execute_result"
    }
   ],
   "source": [
    "import collections\n",
    "\n",
    "# 1. With deque, operate append(), pop() in O(1)\n",
    "deque = collections.deque()\n",
    "deque.append(1234)\n",
    "deque.append(2423)\n",
    "deque.append(2341)\n",
    "deque.pop()\n",
    "deque"
   ]
  },
  {
   "cell_type": "code",
   "execution_count": 2,
   "metadata": {},
   "outputs": [
    {
     "data": {
      "text/plain": [
       "Counter({'H': 1,\n",
       "         'e': 1,\n",
       "         'l': 3,\n",
       "         'o': 2,\n",
       "         ',': 1,\n",
       "         ' ': 1,\n",
       "         'w': 1,\n",
       "         'r': 1,\n",
       "         'd': 1,\n",
       "         '!': 1})"
      ]
     },
     "execution_count": 2,
     "metadata": {},
     "output_type": "execute_result"
    }
   ],
   "source": [
    "# 2. With Counter, check how many duplicate elements are in an iterable, with a dictionary.\n",
    "bears = ['ice', 'grizzly', 'black', 'moon', 'sloth', 'spectacled', 'panda', 'sun', 'sun']\n",
    "collections.Counter(bears)\n",
    "collections.Counter(\"Hello, world!\")"
   ]
  },
  {
   "cell_type": "code",
   "execution_count": 3,
   "metadata": {},
   "outputs": [
    {
     "name": "stdout",
     "output_type": "stream",
     "text": [
      "{'sun': 'Southeast Asia', 'ice': 'Northern'}\n",
      "OrderedDict([('sun', 'Southeast Asia'), ('ice', 'Northern')])\n"
     ]
    }
   ],
   "source": [
    "# 3. OrderedDict\n",
    "bear_dictionary = {'sun': 'Southeast Asia', 'ice': 'Northern'}\n",
    "print(bear_dictionary)\n",
    "\n",
    "ordered_bear_dictionary = collections.OrderedDict(bear_dictionary)\n",
    "print(ordered_bear_dictionary)"
   ]
  },
  {
   "cell_type": "code",
   "execution_count": 4,
   "metadata": {},
   "outputs": [],
   "source": [
    "# 이외 Counter 등 여럿이 있음"
   ]
  }
 ],
 "metadata": {
  "kernelspec": {
   "display_name": "Python 3",
   "language": "python",
   "name": "python3"
  },
  "language_info": {
   "codemirror_mode": {
    "name": "ipython",
    "version": 3
   },
   "file_extension": ".py",
   "mimetype": "text/x-python",
   "name": "python",
   "nbconvert_exporter": "python",
   "pygments_lexer": "ipython3",
   "version": "3.7.6"
  }
 },
 "nbformat": 4,
 "nbformat_minor": 2
}
