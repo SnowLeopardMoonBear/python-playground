{
 "cells": [
  {
   "cell_type": "code",
   "execution_count": null,
   "metadata": {},
   "outputs": [],
   "source": [
    "# without using for statement\n",
    "list_2d = [[1,2],[3,4],[5,6,7]]\n",
    "sum(list_2d, [])\n",
    "list_3d = [[[1,2],[3,4]],[[5,6],[7,8]]]\n",
    "sum(list_3d, []) #dosn't properly work above 3d list\n",
    "# sum(list_3d, [[]])\n",
    "# sum(list_3d, [[[]]])"
   ]
  }
 ],
 "metadata": {
  "kernelspec": {
   "display_name": "Python 3",
   "language": "python",
   "name": "python3"
  },
  "language_info": {
   "codemirror_mode": {
    "name": "ipython",
    "version": 3
   },
   "file_extension": ".py",
   "mimetype": "text/x-python",
   "name": "python",
   "nbconvert_exporter": "python",
   "pygments_lexer": "ipython3",
   "version": "3.7.6"
  }
 },
 "nbformat": 4,
 "nbformat_minor": 2
}
