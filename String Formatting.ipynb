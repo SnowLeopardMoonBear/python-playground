{
 "cells": [
  {
   "cell_type": "code",
   "execution_count": 1,
   "metadata": {},
   "outputs": [
    {
     "name": "stdout",
     "output_type": "stream",
     "text": [
      "conventional method before Python version 3.6\n",
      "using formatting method\n",
      "Newest and most convinient way of formatting. Don't have to try the conventional method before Python version 3.6.\n"
     ]
    }
   ],
   "source": [
    "# 1. Conventional Way\n",
    "version = 'version'\n",
    "string1 = 'conventional %s before %s %s %.1f' % ('method', 'Python', version, 3.6)\n",
    "print(string1)\n",
    "\n",
    "# 2. Using .format() Method\n",
    "formatting = 'formatting'\n",
    "string2 = 'using {1} {0}'.format('method', formatting)\n",
    "print(string2)\n",
    "\n",
    "# 3. Most Convinient Way(Python > 3.6)\n",
    "string3 = f\"Newest and most convinient way of {formatting}. Don't have to try the {string1}.\"\n",
    "print(string3)"
   ]
  }
 ],
 "metadata": {
  "kernelspec": {
   "display_name": "Python 3",
   "language": "python",
   "name": "python3"
  },
  "language_info": {
   "codemirror_mode": {
    "name": "ipython",
    "version": 3
   },
   "file_extension": ".py",
   "mimetype": "text/x-python",
   "name": "python",
   "nbconvert_exporter": "python",
   "pygments_lexer": "ipython3",
   "version": "3.7.0"
  }
 },
 "nbformat": 4,
 "nbformat_minor": 2
}
