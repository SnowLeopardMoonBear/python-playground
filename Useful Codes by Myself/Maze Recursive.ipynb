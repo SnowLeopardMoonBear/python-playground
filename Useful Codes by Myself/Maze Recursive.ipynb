{
 "cells": [
  {
   "cell_type": "code",
   "execution_count": null,
   "metadata": {},
   "outputs": [],
   "source": [
    "def solution(maps):\n",
    "    # 1. 초기조건 세팅: 맵 다듬기, 변수설정\n",
    "    M, N = len(maps[0]), len(maps) # 행의 수(세로): N, 열의 수(가로): M\n",
    "    ways = M*N # 길에 해당하는 타일 수\n",
    "    for a in range(M):\n",
    "        for b in range(N):\n",
    "            maps[a][b] -= 1\n",
    "            if maps[a][b] == 0:\n",
    "                maps[a][b] += 10000\n",
    "            else:\n",
    "                ways -= 1 #벽이면 길에 해당하는 타일 수 1만큼 차감\n",
    "                \n",
    "    # (시험삼아 맵 출력)\n",
    "    # for m in maps:\n",
    "    #     print(m)\n",
    "    # print(ways)\n",
    "        \n",
    "    # 2. 재귀dp로 풀기. 처음 카운트값은 1로 넣어주자.\n",
    "    def rec(now_x, now_y, count, prev, rcount): # x좌표, y좌표, 길이, 이전 명령어, 재귀깊이\n",
    "        # (x,y)는 maps[y][x]니 혼동주의. 동, 남 먼저\n",
    "        # maximum recursion limit은 길에 해당하는 타일 수\n",
    "        if rcount >= ways:\n",
    "            return\n",
    "        maps[now_y][now_x] = min([maps[now_y][now_x], count])\n",
    "        # print(count, maps[now_y][now_x])\n",
    "        # 동쪽\n",
    "        if now_x < M-1 and maps[now_y][now_x+1]!=-1 and prev != 'W':\n",
    "            rec(now_x+1, now_y, maps[now_y][now_x]+1, 'E', rcount+1)\n",
    "        # 남쪽\n",
    "        if now_y < N-1 and maps[now_y+1][now_x]!=-1 and prev != 'N':\n",
    "            rec(now_x, now_y+1, maps[now_y][now_x]+1, 'S', rcount+1)\n",
    "        # 서쪽\n",
    "        if now_x > 0 and maps[now_y][now_x-1]!=-1 and prev != 'E':\n",
    "            rec(now_x-1, now_y, maps[now_y][now_x]+1, 'W', rcount+1)\n",
    "        # 북쪽\n",
    "        if now_y >0 and maps[now_y-1][now_x]!=-1 and prev != 'S':\n",
    "            rec(now_x, now_y-1, maps[now_y][now_x]+1, 'N', rcount+1)\n",
    "        return\n",
    "\n",
    "    rec(0,0,1,None,0)\n",
    "    # for m in maps:\n",
    "    #     print(m)\n",
    "    answer = maps[-1][-1]\n",
    "    if answer == 10000:\n",
    "        return -1\n",
    "    return answer"
   ]
  }
 ],
 "metadata": {
  "kernelspec": {
   "display_name": "Python 3",
   "language": "python",
   "name": "python3"
  },
  "language_info": {
   "codemirror_mode": {
    "name": "ipython",
    "version": 3
   },
   "file_extension": ".py",
   "mimetype": "text/x-python",
   "name": "python",
   "nbconvert_exporter": "python",
   "pygments_lexer": "ipython3",
   "version": "3.7.0"
  }
 },
 "nbformat": 4,
 "nbformat_minor": 2
}
