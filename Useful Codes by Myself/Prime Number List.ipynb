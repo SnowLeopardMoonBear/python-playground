{
 "cells": [
  {
   "cell_type": "code",
   "execution_count": null,
   "metadata": {},
   "outputs": [],
   "source": [
    "def prime(n):\n",
    "    # 1. 입력한 수까지 리스트 만들기\n",
    "    prime_list = [n for n in range(2, n+1)]\n",
    "    i = 0 # while 문을 위한 카운터 변수\n",
    "    # 2. 입력한 수의 제곱근까지 반복문으로 소수의 배수들 걸러내기\n",
    "    while prime_list[i]<((n**(1/2))+1):\n",
    "        # 2-1. 이전까지의 소수 리스트에다 바로 다음 소수로 걸러낸 리스트를 붙이기를 반복한다\n",
    "        prime_list = prime_list[:i] + [prime_list[j] for j in range(i, len(prime_list)) if (prime_list[j] % prime_list[i] != 0) or j == i]\n",
    "        i += 1\n",
    "    return prime_list"
   ]
  }
 ],
 "metadata": {
  "kernelspec": {
   "display_name": "Python 3",
   "language": "python",
   "name": "python3"
  },
  "language_info": {
   "codemirror_mode": {
    "name": "ipython",
    "version": 3
   },
   "file_extension": ".py",
   "mimetype": "text/x-python",
   "name": "python",
   "nbconvert_exporter": "python",
   "pygments_lexer": "ipython3",
   "version": "3.7.0"
  }
 },
 "nbformat": 4,
 "nbformat_minor": 2
}
