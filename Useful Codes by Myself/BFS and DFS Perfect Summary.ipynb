{
 "cells": [
  {
   "cell_type": "code",
   "execution_count": 3,
   "metadata": {},
   "outputs": [],
   "source": [
    "# BFS uses queue, while DFS uses stack\n",
    "# Don't have to use visited list as argument and recursion on DFS, because stack used in DFS already works."
   ]
  },
  {
   "cell_type": "code",
   "execution_count": 6,
   "metadata": {},
   "outputs": [
    {
     "name": "stdout",
     "output_type": "stream",
     "text": [
      "deque(['a'])\n",
      "deque(['b', 'c'])\n",
      "deque(['c', 'd'])\n",
      "deque(['d'])\n",
      "['a', 'b', 'c', 'd']\n"
     ]
    }
   ],
   "source": [
    "# 1. Basic BFS with graph given in a dictionary\n",
    "\n",
    "import collections # to use deque for pop(0) in O(1)\n",
    "graph = {'a': ['b', 'c'], 'b': ['a', 'c', 'd'], 'c': ['a', 'b'], 'd': ['a', 'b']}\n",
    "def dfs(graph, start):\n",
    "    visited = [] \n",
    "    to_visit = collections.deque() \n",
    "    to_visit.append(start) # Initialize with starting node\n",
    "    while to_visit:\n",
    "        print(to_visit)\n",
    "        current_node = to_visit.popleft()\n",
    "        visited.append(current_node)\n",
    "        for item in graph[current_node]:\n",
    "            if item not in visited: \n",
    "                if item not in to_visit: to_visit.append(item) # Don't add duplicate node caused by cycle, if it's not a tree\n",
    "    print(visited)\n",
    "dfs(graph, 'a')"
   ]
  },
  {
   "cell_type": "code",
   "execution_count": 7,
   "metadata": {},
   "outputs": [
    {
     "name": "stdout",
     "output_type": "stream",
     "text": [
      "['a']\n",
      "['b', 'c']\n",
      "['b']\n",
      "['d']\n",
      "['a', 'c', 'b', 'd']\n"
     ]
    }
   ],
   "source": [
    "# 2. Basic DFS with graph given in a dictionary\n",
    "\n",
    "def dfs(graph, start):\n",
    "    visited, to_visit = [], [start]\n",
    "    while to_visit:\n",
    "        print(to_visit)\n",
    "        current_node = to_visit.pop()\n",
    "        visited.append(current_node)\n",
    "        for item in graph[current_node]:\n",
    "            if item not in visited: \n",
    "                if item not in to_visit: to_visit.append(item) # Don't add duplicate node caused by cycle, if it's not a tree\n",
    "    print(visited)\n",
    "dfs(graph, 'a')"
   ]
  },
  {
   "cell_type": "code",
   "execution_count": null,
   "metadata": {},
   "outputs": [],
   "source": [
    "# 3. Dijkstra algorithm (with priority queue)\n",
    "\n",
    "graph = {}"
   ]
  }
 ],
 "metadata": {
  "kernelspec": {
   "display_name": "Python 3",
   "language": "python",
   "name": "python3"
  },
  "language_info": {
   "codemirror_mode": {
    "name": "ipython",
    "version": 3
   },
   "file_extension": ".py",
   "mimetype": "text/x-python",
   "name": "python",
   "nbconvert_exporter": "python",
   "pygments_lexer": "ipython3",
   "version": "3.7.6"
  }
 },
 "nbformat": 4,
 "nbformat_minor": 2
}
