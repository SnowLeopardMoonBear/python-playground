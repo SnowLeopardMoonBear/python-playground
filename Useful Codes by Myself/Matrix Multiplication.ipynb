{
 "cells": [
  {
   "cell_type": "code",
   "execution_count": 1,
   "metadata": {},
   "outputs": [
    {
     "name": "stdout",
     "output_type": "stream",
     "text": [
      "[[1, 2]] [[1, 2]]\n",
      "[5]\n",
      "[[2, 3, 4], [4, 3, 2]] [[2, 3, 4], [3, 4, 5]]\n",
      "[29, 38]\n",
      "[25, 34]\n",
      "[[1, 4], [3, 2], [4, 1]] [[3, 3], [3, 3]]\n",
      "[15, 15]\n",
      "[15, 15]\n",
      "[15, 15]\n"
     ]
    },
    {
     "data": {
      "text/plain": [
       "[[15, 15], [15, 15], [15, 15]]"
      ]
     },
     "execution_count": 1,
     "metadata": {},
     "output_type": "execute_result"
    }
   ],
   "source": [
    "# (전략)\n",
    "# 1. arr1은 m*n, arr2는 n*m행렬인데, arr2를 zip해서 행을 열로 바꾸어 m*n행렬로 만든다.(transpose?)\n",
    "# 2. arr1, arr2에서 곱해줄 행을 각각 range(m), range(m) 범위 안에서 각각 x, y로 정한다. \n",
    "# 3. range(n) 범위 안에서 arr1, arr2의 같은 x좌표성분끼리 곱한 값을 더한 값이 곱이 된다.\n",
    "def solution(arr1, arr2):\n",
    "    m = len(arr1) # 행의 개수: y축\n",
    "    n = len(arr1[0]) # 열의 개수: x축\n",
    "    arr2 = list(map(list, zip(*arr2)))\n",
    "    print(arr1, arr2)\n",
    "    answer = []\n",
    "    for x in range(len(arr1)):\n",
    "        temp_arr = []\n",
    "        for y in range(len(arr2)):\n",
    "            sum = 0\n",
    "            for k in range(n):\n",
    "                sum += (arr1[x][k] * arr2[y][k])\n",
    "            temp_arr.append(sum)\n",
    "        answer.append(temp_arr)\n",
    "        print(temp_arr)\n",
    "    return answer\n",
    "\n",
    "solution([[1,2]], [[1],[2]])\n",
    "solution([[2,3,4],[4,3,2]], [[2,3],[3,4],[4,5]])\n",
    "solution([[1, 4], [3, 2], [4, 1]], [[3, 3], [3, 3]])"
   ]
  }
 ],
 "metadata": {
  "kernelspec": {
   "display_name": "Python 3",
   "language": "python",
   "name": "python3"
  },
  "language_info": {
   "codemirror_mode": {
    "name": "ipython",
    "version": 3
   },
   "file_extension": ".py",
   "mimetype": "text/x-python",
   "name": "python",
   "nbconvert_exporter": "python",
   "pygments_lexer": "ipython3",
   "version": "3.7.0"
  }
 },
 "nbformat": 4,
 "nbformat_minor": 2
}
