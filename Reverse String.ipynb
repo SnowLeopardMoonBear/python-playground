{
 "cells": [
  {
   "cell_type": "code",
   "execution_count": 23,
   "metadata": {},
   "outputs": [
    {
     "name": "stdout",
     "output_type": "stream",
     "text": [
      "1. string 슬라이싱의 기초\n",
      "bc\n",
      "bcdefghi\n",
      "abc\n",
      "abcdefghi\n",
      "\n",
      "2. string의 음수 index\n",
      "bcdefg\n",
      "아무 것도 출력하지 않음\n",
      "\n",
      "3. string 징검다리식으로, 반대 방향으로 자르기\n",
      "아무 것도 출력하지 않음\n",
      "ac\n",
      "dc\n",
      "ihgfedc\n",
      "igec\n",
      "ihgfedcb\n",
      "아무 것도 출력하지 않음\n"
     ]
    }
   ],
   "source": [
    "string = \"abcdefghi\"\n",
    "print('1. string 슬라이싱의 기초')\n",
    "print(string[1:3]) # 시작 인덱스부터 목표 인덱스의 하나 앞까지\n",
    "print(string[1:])\n",
    "print(string[:3])\n",
    "print(string[:12])\n",
    "\n",
    "print('\\n2. string의 음수 index')\n",
    "print(string[1:-2])\n",
    "print(string[-2:3] or \"아무 것도 출력하지 않음\")\n",
    "\n",
    "print('\\n3. string 징검다리식으로, 반대 방향으로 자르기')\n",
    "print(string[3:1] or \"아무 것도 출력하지 않음\")\n",
    "print(string[0:3:2]) # 세번째 인자를 넣어준다면, 시작 인덱스부터 징검다리식으로 세번째 인자만큼 건너뛰며 자름\n",
    "print(string[3:1:-1]) # 시작 인덱스부터 목표 인덱스의 반대방향으로 하나 앞까지 자름\n",
    "print(string[:1:-1]) # 반대 방향인 경우 시작 인덱스가 비어있으면 자동으로 가장 뒤를 시작점 삼음\n",
    "print(string[:1:-2])\n",
    "print(string[-1:0:-1])\n",
    "print(string[-1:-1:-1] or \"아무 것도 출력하지 않음\")\n",
    "\n",
    "# range 함수에서 첫번째, 두번째, 세번째 인자가 하는 역할과 유사하다"
   ]
  },
  {
   "cell_type": "code",
   "execution_count": null,
   "metadata": {},
   "outputs": [],
   "source": []
  }
 ],
 "metadata": {
  "kernelspec": {
   "display_name": "Python 3",
   "language": "python",
   "name": "python3"
  },
  "language_info": {
   "codemirror_mode": {
    "name": "ipython",
    "version": 3
   },
   "file_extension": ".py",
   "mimetype": "text/x-python",
   "name": "python",
   "nbconvert_exporter": "python",
   "pygments_lexer": "ipython3",
   "version": "3.7.0"
  }
 },
 "nbformat": 4,
 "nbformat_minor": 2
}
