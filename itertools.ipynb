{
 "cells": [
  {
   "cell_type": "code",
   "execution_count": 1,
   "metadata": {},
   "outputs": [],
   "source": [
    "# itertools 첫걸음\n",
    "\n",
    "import itertools\n",
    "list1 = ['A', 'B', 'C']\n",
    "list2 = ['가', '나', '다', '라']"
   ]
  },
  {
   "cell_type": "code",
   "execution_count": 6,
   "metadata": {},
   "outputs": [
    {
     "name": "stdout",
     "output_type": "stream",
     "text": [
      "<itertools.product object at 0x1094f1948>\n",
      "[('A', '가'), ('A', '나'), ('A', '다'), ('A', '라'), ('B', '가'), ('B', '나'), ('B', '다'), ('B', '라'), ('C', '가'), ('C', '나'), ('C', '다'), ('C', '라')]\n",
      "[['A', '가'], ['A', '나'], ['A', '다'], ['A', '라'], ['B', '가'], ['B', '나'], ['B', '다'], ['B', '라'], ['C', '가'], ['C', '나'], ['C', '다'], ['C', '라']]\n"
     ]
    }
   ],
   "source": [
    "# itertools.product는 어떤 결과를 돌려줄까?\n",
    "\n",
    "print(itertools.product(list1, list2)) # 곱집합(cartesian product)이 담긴 itertools 객체를 출력\n",
    "print(list(itertools.product(list1, list2))) # itertools 객체를 리스트화해 출력. 내부 조합은 튜플로\n",
    "print(list(map(list, itertools.product(list1, list2)))) # itertools 객체를 2차원 리스트화해 출력\n",
    "\n",
    "# 다른 itertools 객체도 마찬가지 형태니, 실제로 값을 사용할 땐 객체 그대로 사용하지 말고, map, list 함수 등을 써서 사용."
   ]
  },
  {
   "cell_type": "code",
   "execution_count": 7,
   "metadata": {},
   "outputs": [
    {
     "name": "stdout",
     "output_type": "stream",
     "text": [
      "[('A', 'B'), ('A', 'C'), ('B', 'A'), ('B', 'C'), ('C', 'A'), ('C', 'B')]\n",
      "[['A', 'B'], ['A', 'C'], ['B', 'A'], ['B', 'C'], ['C', 'A'], ['C', 'B']]\n"
     ]
    }
   ],
   "source": [
    "# itertools.permutations로 순열 출력하기\n",
    "# 주의: 뒤에 s 꼭 붙이기!\n",
    "\n",
    "print(list(itertools.permutations(list1, 2))) # 순열 만들 리스트와 순열의 길이를 인자값으로 넣어주면 순열이 오름차순으로 리턴된다\n",
    "print(list(map(list, itertools.permutations(list1, 2)))) # 마찬가지로 리스트화가 가능하다"
   ]
  },
  {
   "cell_type": "code",
   "execution_count": 9,
   "metadata": {},
   "outputs": [
    {
     "name": "stdout",
     "output_type": "stream",
     "text": [
      "[('가', '나', '다'), ('가', '나', '라'), ('가', '다', '라'), ('나', '다', '라')]\n",
      "[['가', '나', '다'], ['가', '나', '라'], ['가', '다', '라'], ['나', '다', '라']]\n"
     ]
    }
   ],
   "source": [
    "# itertools.combinations로 조합 출력하기\n",
    "# 주의: 역시 뒤에 s 붙이기!\n",
    "\n",
    "print(list(itertools.combinations(list2, 3))) # 리스트와 길이를 인자값으로 넣어주면 위와 같은 형식으로 조합이 리턴된다\n",
    "print(list(map(list, itertools.combinations(list2, 3)))) # 마찬가지로 리스트로 변환"
   ]
  },
  {
   "cell_type": "code",
   "execution_count": null,
   "metadata": {},
   "outputs": [],
   "source": []
  }
 ],
 "metadata": {
  "kernelspec": {
   "display_name": "Python 3",
   "language": "python",
   "name": "python3"
  },
  "language_info": {
   "codemirror_mode": {
    "name": "ipython",
    "version": 3
   },
   "file_extension": ".py",
   "mimetype": "text/x-python",
   "name": "python",
   "nbconvert_exporter": "python",
   "pygments_lexer": "ipython3",
   "version": "3.7.0"
  }
 },
 "nbformat": 4,
 "nbformat_minor": 2
}
