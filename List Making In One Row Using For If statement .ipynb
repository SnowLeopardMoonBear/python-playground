{
 "cells": [
  {
   "cell_type": "code",
   "execution_count": 17,
   "metadata": {},
   "outputs": [
    {
     "name": "stdout",
     "output_type": "stream",
     "text": [
      "[1, 4, 9, 16, 25, 36, 49, 64, 81]\n",
      "[4, 16, 36, 64]\n",
      "[1, 4, 3, 16, 5, 36, 7, 64, 9]\n",
      "[1, 4, 27, 16, 5, 36, 7, 64, 729]\n"
     ]
    }
   ],
   "source": [
    "# 1. For statement\n",
    "list_for = [ x**2 for x in range(1, 10) ]\n",
    "print(list_for)\n",
    "\n",
    "# 2. Add If statement\n",
    "list_if = [ x**2 for x in range(1, 10) if x%2==0 ]\n",
    "print(list_if)\n",
    "\n",
    "# 3. Add Else Condition\n",
    "list_else = [ x**2 if x%2==0 else x for x in range(1,10) ]\n",
    "print(list_else)\n",
    "\n",
    "# 4. Add Elif Condition?\n",
    "# semantically the same with else statement\n",
    "list_elif = [ x**2 if x%2==0 else x**3 if x%3==0 else x for x in range(1,10) ]\n",
    "print(list_elif)"
   ]
  }
 ],
 "metadata": {
  "kernelspec": {
   "display_name": "Python 3",
   "language": "python",
   "name": "python3"
  },
  "language_info": {
   "codemirror_mode": {
    "name": "ipython",
    "version": 3
   },
   "file_extension": ".py",
   "mimetype": "text/x-python",
   "name": "python",
   "nbconvert_exporter": "python",
   "pygments_lexer": "ipython3",
   "version": "3.7.0"
  }
 },
 "nbformat": 4,
 "nbformat_minor": 2
}
