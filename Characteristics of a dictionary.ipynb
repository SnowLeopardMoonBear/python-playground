{
 "cells": [
  {
   "cell_type": "code",
   "execution_count": 2,
   "metadata": {},
   "outputs": [
    {
     "ename": "SyntaxError",
     "evalue": "invalid syntax (<ipython-input-2-0e292a3d1f07>, line 13)",
     "output_type": "error",
     "traceback": [
      "\u001b[0;36m  File \u001b[0;32m\"<ipython-input-2-0e292a3d1f07>\"\u001b[0;36m, line \u001b[0;32m13\u001b[0m\n\u001b[0;31m    print(doc_dict.\"key1\")\u001b[0m\n\u001b[0m                        ^\u001b[0m\n\u001b[0;31mSyntaxError\u001b[0m\u001b[0;31m:\u001b[0m invalid syntax\n"
     ]
    }
   ],
   "source": [
    "# 딕셔너리가 JS object와 비슷하다던데, 과연 JS처럼 함수 저장이 가능할까?\n",
    "def outer_func():\n",
    "    print('outer')\n",
    "func_test = {'func': lambda x: print(x*2), 'outer func': outer_func()} #\n",
    "func_test['func'](3) # 람다식으로 함수 저장해도 됨!\n",
    "func_test['outer func'] # 외부 함수를 불러와 저장해도 됨!\n",
    "#Python, 너는 확장성이 ㄷㄷ한 친구구나...\n",
    "\n",
    "#dot notation으로 불러올 수 있을까\n",
    "doc_dict = {\n",
    "    \"key1\": 'hi'\n",
    "}\n",
    "print(doc_dict.key1) #안됨. 이건 JS object와 확실히 다르네!"
   ]
  },
  {
   "cell_type": "code",
   "execution_count": null,
   "metadata": {},
   "outputs": [],
   "source": []
  }
 ],
 "metadata": {
  "kernelspec": {
   "display_name": "Python 3",
   "language": "python",
   "name": "python3"
  },
  "language_info": {
   "codemirror_mode": {
    "name": "ipython",
    "version": 3
   },
   "file_extension": ".py",
   "mimetype": "text/x-python",
   "name": "python",
   "nbconvert_exporter": "python",
   "pygments_lexer": "ipython3",
   "version": "3.7.0"
  }
 },
 "nbformat": 4,
 "nbformat_minor": 2
}
