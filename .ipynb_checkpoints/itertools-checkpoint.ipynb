{
 "cells": [
  {
   "cell_type": "code",
   "execution_count": 1,
   "metadata": {},
   "outputs": [],
   "source": [
    "# itertools 첫걸음\n",
    "\n",
    "import itertools\n",
    "list1 = ['A', 'B', 'C']\n",
    "list2 = ['가', '나', '다', '라']"
   ]
  },
  {
   "cell_type": "code",
   "execution_count": 2,
   "metadata": {},
   "outputs": [
    {
     "name": "stdout",
     "output_type": "stream",
     "text": [
      "<itertools.product object at 0x1096da360>\n",
      "[('A', '가'), ('A', '나'), ('A', '다'), ('A', '라'), ('B', '가'), ('B', '나'), ('B', '다'), ('B', '라'), ('C', '가'), ('C', '나'), ('C', '다'), ('C', '라')]\n",
      "[['A', '가'], ['A', '나'], ['A', '다'], ['A', '라'], ['B', '가'], ['B', '나'], ['B', '다'], ['B', '라'], ['C', '가'], ['C', '나'], ['C', '다'], ['C', '라']]\n"
     ]
    }
   ],
   "source": [
    "# itertools.product는 어떤 결과를 돌려줄까?\n",
    "\n",
    "print(itertools.product(list1, list2)) # 곱집합(cartesian product)이 담긴 itertools 객체를 출력\n",
    "print(list(itertools.product(list1, list2))) # itertools 객체를 리스트화해 출력. 내부 조합은 튜플로.\n",
    "print(list(map(list, itertools.product(list1, list2)))) # itertools 객체를 2차원 리스트화해 출력.\n",
    "\n",
    "# 다른 itertools 객체도 마찬가지 형태니, 실제로 값을 사용할 땐 객체 그대로 사용하지 말고, map, list 함수 등을 써서 사용."
   ]
  },
  {
   "cell_type": "code",
   "execution_count": null,
   "metadata": {},
   "outputs": [],
   "source": [
    "# itertools.permutation으로 순열 출력하기\n",
    "\n",
    "print(list(itertools.permutation(list1, list2)))"
   ]
  }
 ],
 "metadata": {
  "kernelspec": {
   "display_name": "Python 3",
   "language": "python",
   "name": "python3"
  },
  "language_info": {
   "codemirror_mode": {
    "name": "ipython",
    "version": 3
   },
   "file_extension": ".py",
   "mimetype": "text/x-python",
   "name": "python",
   "nbconvert_exporter": "python",
   "pygments_lexer": "ipython3",
   "version": "3.7.0"
  }
 },
 "nbformat": 4,
 "nbformat_minor": 2
}
