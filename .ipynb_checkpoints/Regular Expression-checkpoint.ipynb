{
 "cells": [
  {
   "cell_type": "code",
   "execution_count": 1,
   "metadata": {},
   "outputs": [
    {
     "name": "stdout",
     "output_type": "stream",
     "text": [
      "<re.Match object; span=(0, 3), match='aaa'>\n",
      "None\n",
      "<re.Match object; span=(0, 2), match='aa'>\n",
      "None\n",
      "<re.Match object; span=(1, 3), match='aa'>\n"
     ]
    }
   ],
   "source": [
    "import re\n",
    "\n",
    "# 1. 메타 문자: 정규식의 연산자 같은 것\n",
    "\n",
    "# 1-1. []: 안에 있는 문자 하나하나와 매치. -은 중간 모두와 일치(예: a-z)\n",
    "# 1-2. .: 모든 문자와 매치(단, 줄바꿈 문자 아님)\n",
    "# 1-3. *: 반복, +: 1회 이상 반복, {m}: m회 반복, {m, n}: m-n회 반복, ?: 유무 무관\n",
    "# 1-4 자주 사용하는 문자 클래스: \\d: 숫자, \\D: 숫자 아닌 것, \\s: whitespace, \\S: 공백 아닌 것, \\w: 문자+숫자, \\W: 문자+숫자가 아닌 것\n",
    "\n",
    "# 2. re 모듈\n",
    "regex_1 = re.compile('a+') # .compile([표현식])은 우리가 정규표현식을 쓰기 위한 객체를 리턴\n",
    "\n",
    "# 2-1. .match: re.compile로 만든 re객체에서 어떤 문자열 전체가 정규식에 맞는지를 판별\n",
    "print(regex_1.match('aaa')) # 맞으면 match 객체를 돌려준다\n",
    "print(regex_1.match('bear')) # 틀리면 None을 돌려준다\n",
    "print(regex_1.match('aab')) # 일부만 맞는 경우, 어디서부터 어디까지 맞는지를 알려줍니다.\n",
    "\n",
    "# 2-2. .search: .match와 비슷하나, 꼭 처음부터 찾지만은 않습니다\n",
    "print(regex_1.match('baa')) # None으로 뜸\n",
    "print(regex_1.search('baa')) # 중간부터는 맞는 부분이 있으니 match 객체를 돌려줌. span(1, 3)은 어디서 어디까지인지 알려줌"
   ]
  }
 ],
 "metadata": {
  "kernelspec": {
   "display_name": "Python 3",
   "language": "python",
   "name": "python3"
  },
  "language_info": {
   "codemirror_mode": {
    "name": "ipython",
    "version": 3
   },
   "file_extension": ".py",
   "mimetype": "text/x-python",
   "name": "python",
   "nbconvert_exporter": "python",
   "pygments_lexer": "ipython3",
   "version": "3.7.6"
  }
 },
 "nbformat": 4,
 "nbformat_minor": 2
}
