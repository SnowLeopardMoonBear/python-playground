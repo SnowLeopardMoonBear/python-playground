{
 "cells": [
  {
   "cell_type": "code",
   "execution_count": 3,
   "metadata": {},
   "outputs": [
    {
     "name": "stdout",
     "output_type": "stream",
     "text": [
      "<enumerate object at 0x10667d678>\n",
      "[(0, 'zero'), (1, 'one'), (2, 'two')]\n",
      "0 zero\n",
      "1 one\n",
      "2 two\n"
     ]
    }
   ],
   "source": [
    "iterable = ['zero', 'one', 'two']\n",
    "enum_iterable = enumerate(iterable)\n",
    "\n",
    "print(enum_iterable) # enumerate 객체의 메모리값을 리턴한다\n",
    "print(list(enum_iterable)) #(인덱스, 값)의 튜플이 차례대로 들어있는 리스트를 반환한다.\n",
    "\n",
    "# 인덱스값을 함께 얻고 싶을 때, 아래와 같이 enumerate 함수로 iterable을 감싸준다.\n",
    "for (idx, val) in enumerate(iterable): #해당 반복에서 첫번째 인자는 인덱스, 두번째 인자는 값을 의미한다.\n",
    "    print(idx, val)"
   ]
  }
 ],
 "metadata": {
  "kernelspec": {
   "display_name": "Python 3",
   "language": "python",
   "name": "python3"
  },
  "language_info": {
   "codemirror_mode": {
    "name": "ipython",
    "version": 3
   },
   "file_extension": ".py",
   "mimetype": "text/x-python",
   "name": "python",
   "nbconvert_exporter": "python",
   "pygments_lexer": "ipython3",
   "version": "3.7.0"
  }
 },
 "nbformat": 4,
 "nbformat_minor": 2
}
