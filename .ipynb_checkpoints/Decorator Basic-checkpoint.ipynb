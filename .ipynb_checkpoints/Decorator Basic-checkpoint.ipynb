{
 "cells": [
  {
   "cell_type": "code",
   "execution_count": null,
   "metadata": {},
   "outputs": [],
   "source": [
    "def deco(func):\n",
    "    def wrapper(*args, **kwargs):        \n",
    "        print(\"before func\")\n",
    "        func(*args)\n",
    "        print(\"after func\")\n",
    "    return wrapper\n",
    "\n",
    "@deco\n",
    "def func_to_be_decorated(n):\n",
    "    print(\"func \"+n)\n",
    "    \n",
    "func_to_be_decorated('wrapped')"
   ]
  }
 ],
 "metadata": {
  "kernelspec": {
   "display_name": "Python 3",
   "language": "python",
   "name": "python3"
  },
  "language_info": {
   "codemirror_mode": {
    "name": "ipython",
    "version": 3
   },
   "file_extension": ".py",
   "mimetype": "text/x-python",
   "name": "python",
   "nbconvert_exporter": "python",
   "pygments_lexer": "ipython3",
   "version": "3.7.0"
  }
 },
 "nbformat": 4,
 "nbformat_minor": 2
}
