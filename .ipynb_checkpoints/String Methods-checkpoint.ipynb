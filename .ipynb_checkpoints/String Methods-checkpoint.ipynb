{
 "cells": [
  {
   "cell_type": "code",
   "execution_count": null,
   "metadata": {},
   "outputs": [],
   "source": [
    "# Important: string object does NOT support replacement by index like list object\n",
    "\n",
    "# 1. .upper(), .lower(): makes the whole string uppercase, lowercase, ignores whitespace\n",
    "string_1 = 'asdf'\n",
    "print(string_1.upper(), string_1.lower())\n",
    "\n",
    "# 2. .title(): makes the first character of a word uppercase\n",
    "string_2 = \"hello world!\"\n",
    "print(string_2.title())\n",
    "\n",
    "# 3. .isalpha(), .isdecimal(): returns True if the whole string is in alphabets or digits\n",
    "string_3_1 = \"asdf\"\n",
    "string_3_2 = \"123x4\"\n",
    "print(string_3_1.isalpha(), string_3_2.isdecimal())\n",
    "\n",
    "# 4. .strip(): strips all whitespace surrounding a string. lstrip(), rstrip() available!\n",
    "string_4 = \"  gomti \\n\"\n",
    "print(string_4.strip())\n"
   ]
  }
 ],
 "metadata": {
  "kernelspec": {
   "display_name": "Python 3",
   "language": "python",
   "name": "python3"
  },
  "language_info": {
   "codemirror_mode": {
    "name": "ipython",
    "version": 3
   },
   "file_extension": ".py",
   "mimetype": "text/x-python",
   "name": "python",
   "nbconvert_exporter": "python",
   "pygments_lexer": "ipython3",
   "version": "3.7.0"
  }
 },
 "nbformat": 4,
 "nbformat_minor": 2
}
