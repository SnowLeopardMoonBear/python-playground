{
 "cells": [
  {
   "cell_type": "code",
   "execution_count": 17,
   "metadata": {},
   "outputs": [
    {
     "name": "stdout",
     "output_type": "stream",
     "text": [
      "one argument: 9\n",
      "multiple arguments: 6\n",
      "map() with lambda: [0, 1, 4, 9, 16, 25, 36, 49, 64, 81]\n",
      "reduce() with lambda: 24\n",
      "reduce() to reverse string: fdsafdsa\n",
      "filter() with lambda: [0, 3, 6, 9]\n"
     ]
    }
   ],
   "source": [
    "# 1. lambda function is for coding a simple ANONYMOUS function in one line\n",
    "print('one argument:', (lambda x: x**2)(3))\n",
    "print('multiple arguments:', (lambda x, y, z: x+y+z)(1,2,3))\n",
    "\n",
    "# 2. lambda with map() function: you don't have to define a function outside to use it only in map() function\n",
    "print('map() with lambda:', list(map(lambda x: x**2, range(10))))\n",
    "\n",
    "# 3. lambda with reduce() function: reduce(function, iterable) is for repeatedly using function with returned value\n",
    "from functools import reduce # need to import from functools in Python >3\n",
    "    # In reduce(), first argument is previously returned value, else is argument for the function \n",
    "print('reduce() with lambda:', reduce(lambda x,y: x*y, range(1, 5)))\n",
    "print('reduce() to reverse string:', reduce(lambda x,y:y+x, 'asdfasdf'))\n",
    "\n",
    "# 4. lambda with filter() function: filter(function(arg), iterable) checks arguments if they returns True through a function\n",
    "print('filter() with lambda:', list(filter(lambda x: x%3==0, range(10))))"
   ]
  }
 ],
 "metadata": {
  "kernelspec": {
   "display_name": "Python 3",
   "language": "python",
   "name": "python3"
  },
  "language_info": {
   "codemirror_mode": {
    "name": "ipython",
    "version": 3
   },
   "file_extension": ".py",
   "mimetype": "text/x-python",
   "name": "python",
   "nbconvert_exporter": "python",
   "pygments_lexer": "ipython3",
   "version": "3.7.0"
  }
 },
 "nbformat": 4,
 "nbformat_minor": 2
}
