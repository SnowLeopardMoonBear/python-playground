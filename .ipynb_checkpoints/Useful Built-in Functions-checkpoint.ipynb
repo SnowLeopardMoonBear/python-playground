{
 "cells": [
  {
   "cell_type": "code",
   "execution_count": 1,
   "metadata": {},
   "outputs": [
    {
     "name": "stdout",
     "output_type": "stream",
     "text": [
      "4 1\n",
      "가 A\n",
      "44032 65\n",
      "4 4 3\n",
      "(2, 1)\n",
      "0.5\n"
     ]
    }
   ],
   "source": [
    "# 1. max(iter), min(iter): returns maximum, minimum value in an iterable\n",
    "list_1 = [1,2,3,4]\n",
    "list_1_1 = ['a', 'b', 'c', 'A', '가']\n",
    "print(max(list_1), min(list_1))\n",
    "print(max(list_1_1), min(list_1_1)) # even works with string: maybe compare Unicode value\n",
    "\n",
    "# 2. ord(char): returns Unicode value of a character\n",
    "print(ord('가'), ord('A'))\n",
    "\n",
    "# 3. round(num): rounds a number\n",
    "print(round(3.5), round(3.1+0.5), round(3.6-0.5)) #round, 올림, 버림\n",
    "\n",
    "# 4. divmod(num, divisor): returns dividend and remainder in a tuple (div, mod)\n",
    "print(divmod(5,2))\n",
    "\n",
    "# 5. abs(num): returns absolute value\n",
    "print(abs(-0.5))"
   ]
  },
  {
   "cell_type": "code",
   "execution_count": null,
   "metadata": {},
   "outputs": [],
   "source": []
  }
 ],
 "metadata": {
  "kernelspec": {
   "display_name": "Python 3",
   "language": "python",
   "name": "python3"
  },
  "language_info": {
   "codemirror_mode": {
    "name": "ipython",
    "version": 3
   },
   "file_extension": ".py",
   "mimetype": "text/x-python",
   "name": "python",
   "nbconvert_exporter": "python",
   "pygments_lexer": "ipython3",
   "version": "3.7.0"
  }
 },
 "nbformat": 4,
 "nbformat_minor": 2
}
