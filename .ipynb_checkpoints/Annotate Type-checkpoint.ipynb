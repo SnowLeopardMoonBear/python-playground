{
 "cells": [
  {
   "cell_type": "code",
   "execution_count": 28,
   "metadata": {},
   "outputs": [
    {
     "name": "stdout",
     "output_type": "stream",
     "text": [
      "<class 'int'>\n",
      "['asdf']\n",
      "<class 'int'>\n"
     ]
    }
   ],
   "source": [
    "typed_string: str = 123\n",
    "    \n",
    "def typed(text: str) -> int:\n",
    "    return text\n",
    "\n",
    "# Python 3.6> can annotate static type but without mypy module, it's nothing more than just annotation. \n",
    "# Because Python doesn't have compling process, it doesn't check type and force to keep the assigned type.\n",
    "print(type(typed_string))\n",
    "print(typed([\"asdf\"]))\n",
    "print(type(typed(123)))"
   ]
  }
 ],
 "metadata": {
  "kernelspec": {
   "display_name": "Python 3",
   "language": "python",
   "name": "python3"
  },
  "language_info": {
   "codemirror_mode": {
    "name": "ipython",
    "version": 3
   },
   "file_extension": ".py",
   "mimetype": "text/x-python",
   "name": "python",
   "nbconvert_exporter": "python",
   "pygments_lexer": "ipython3",
   "version": "3.7.0"
  }
 },
 "nbformat": 4,
 "nbformat_minor": 2
}
