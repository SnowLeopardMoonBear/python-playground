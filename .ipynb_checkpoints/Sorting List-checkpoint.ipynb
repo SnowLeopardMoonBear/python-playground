{
 "cells": [
  {
   "cell_type": "code",
   "execution_count": 7,
   "metadata": {},
   "outputs": [
    {
     "name": "stdout",
     "output_type": "stream",
     "text": [
      "[1, 2, 3]\n",
      "[3, 2, 1]\n",
      "[1, 2, 3]\n",
      "[3, 2, 1]\n",
      "[1, 4, 2, 5, 3]\n",
      "[[3, 1], [2, 2], [1, 3]]\n"
     ]
    }
   ],
   "source": [
    "# 1. sort()\n",
    "list_1 = [3,2,1]\n",
    "list_1.sort()\n",
    "print(list_1)\n",
    "\n",
    "# 2. sort(reverse=True)\n",
    "list_2 = [1, 2, 3]\n",
    "list_2.sort(reverse=True)\n",
    "print(list_2)\n",
    "\n",
    "# 3. sorted()\n",
    "list_3 = [3, 2, 1]\n",
    "print(sorted(list_3)) # 리스트에서 제공하는 메서드가 아님!\n",
    "print(list_3)\n",
    "\n",
    "#4. reverse()\n",
    "list_4 = [3, 5, 2, 4, 1]\n",
    "list_4.reverse() # 값 상관없이 인덱스만 뒤집는다\n",
    "print(list_4)\n",
    "\n",
    "# 5. sort by key\n",
    "list_5 = [[1,3], [2,2], [3,1]]\n",
    "list_5.sort(key = lambda x: x[1])\n",
    "print(list_5)"
   ]
  },
  {
   "cell_type": "code",
   "execution_count": null,
   "metadata": {},
   "outputs": [],
   "source": []
  }
 ],
 "metadata": {
  "kernelspec": {
   "display_name": "Python 3",
   "language": "python",
   "name": "python3"
  },
  "language_info": {
   "codemirror_mode": {
    "name": "ipython",
    "version": 3
   },
   "file_extension": ".py",
   "mimetype": "text/x-python",
   "name": "python",
   "nbconvert_exporter": "python",
   "pygments_lexer": "ipython3",
   "version": "3.7.0"
  }
 },
 "nbformat": 4,
 "nbformat_minor": 2
}
