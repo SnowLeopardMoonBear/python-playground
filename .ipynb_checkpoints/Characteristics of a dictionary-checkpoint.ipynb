{
 "cells": [
  {
   "cell_type": "code",
   "execution_count": 2,
   "metadata": {},
   "outputs": [
    {
     "name": "stdout",
     "output_type": "stream",
     "text": [
      "outer\n",
      "6\n",
      "hi\n"
     ]
    }
   ],
   "source": [
    "# 딕셔너리가 JS object와 비슷하다던데, 과연 JS처럼 함수 저장이 가능할까?\n",
    "def outer_func():\n",
    "    print('outer')\n",
    "func_test = {'func': lambda x: print(x*2), 'outer func': outer_func()} #\n",
    "func_test['func'](3) # 람다식으로 함수 저장해도 됨!\n",
    "func_test['outer func'] # 외부 함수를 불러와 저장해도 됨!\n",
    "#Python, 너는 확장성이 ㄷㄷ한 친구구나...\n",
    "\n",
    "#Closure도 지원하는지는, 클로저의 정확한 뜻과 추후 실험으로 알아봐야 할 듯\n",
    "\n",
    "#dot notation으로 불러올 수 있을까?\n",
    "doc_dict = {\n",
    "    \"key1\": 'hi'\n",
    "}\n",
    "# print(doc_dict.key1) #안됨. 이건 JS object와 확실히 다르네!\n",
    "print(doc_dict['key1']) #됨. key 값은 지정할 때도, 불러올 떄도 꼭 string임을 따옴표로 나타내주어야 한다"
   ]
  },
  {
   "cell_type": "code",
   "execution_count": null,
   "metadata": {},
   "outputs": [],
   "source": []
  }
 ],
 "metadata": {
  "kernelspec": {
   "display_name": "Python 3",
   "language": "python",
   "name": "python3"
  },
  "language_info": {
   "codemirror_mode": {
    "name": "ipython",
    "version": 3
   },
   "file_extension": ".py",
   "mimetype": "text/x-python",
   "name": "python",
   "nbconvert_exporter": "python",
   "pygments_lexer": "ipython3",
   "version": "3.7.0"
  }
 },
 "nbformat": 4,
 "nbformat_minor": 2
}
