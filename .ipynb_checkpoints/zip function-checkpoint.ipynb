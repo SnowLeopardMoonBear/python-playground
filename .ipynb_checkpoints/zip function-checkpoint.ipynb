{
 "cells": [
  {
   "cell_type": "code",
   "execution_count": 20,
   "metadata": {},
   "outputs": [
    {
     "name": "stdout",
     "output_type": "stream",
     "text": [
      "<zip object at 0x110175948>\n",
      "[[1, 4, 7], [2, 5, 8], [3, 6, 9]]\n",
      "[('a', 10), ('b', 20), ('c', 30)]\n",
      "[(\"I'm\", 'short')]\n",
      "[('first', 'second', 'third')]\n"
     ]
    }
   ],
   "source": [
    "# zip function은 리스트를 인자로 받아, 각 리스트의 i번째끼리를 튜플로 묶은 리스트를 반환.\n",
    "\n",
    "# 리스트 두 개를 묶기\n",
    "first_list = ['a','b','c']\n",
    "second_list = [10,20,30]\n",
    "print(list(zip(first_list, second_list))) # 첫째, 둘째를 얌전히 묶어줌. 튜플 형태로.\n",
    "\n",
    "# 길이가 차이나는 리스트 두 개를 묶기\n",
    "longer_list = [\"I'm\", \"longer\"]\n",
    "shorter_list = ['short']\n",
    "print(list(zip(longer_list, shorter_list))) # 긴 부분은 무시됨\n",
    "\n",
    "# 리스트 세 개 이상을 묶기\n",
    "list_1 = ['first']\n",
    "list_2 = ['second', 'list']\n",
    "list_3 = ['third', 'fuck' 'yeah!']\n",
    "print(list(zip(list_1, list_2, list_3))) #가장 짧은 걸 기준으로 묶임\n",
    "\n",
    "# 끝.판.왕: 2차원 리스트를 내부 리스트의 n번째 원소끼리 묶기. 꽤나 유용!\n",
    "# 인자로 몇 개가 들어갈 지 모를 때 쓰는 *를 활용.\n",
    "# 이해하기 편하게 과정 설명하면 \n",
    "# 1. zip의 인자로 2차원 리스트 안의 여러 리스트를 *사용해 넣어줌 \n",
    "# 2. zip object는 이터러블이니 map으로 내부의 튜플을 리스트로 바꿔줌 \n",
    "# 3. map object 자체를 출력할 수 없으니 list로 바꿔줌\n",
    "\n",
    "list_in_list = [[1,2,3],[4,5,6],[7,8,9]]\n",
    "print(zip(list_in_list))\n",
    "print(list(map(list, zip(*list_in_list)))) # *이 있어야 첫번째끼리 묶임. 안그러면 안 묶임."
   ]
  },
  {
   "cell_type": "code",
   "execution_count": null,
   "metadata": {},
   "outputs": [],
   "source": []
  }
 ],
 "metadata": {
  "kernelspec": {
   "display_name": "Python 3",
   "language": "python",
   "name": "python3"
  },
  "language_info": {
   "codemirror_mode": {
    "name": "ipython",
    "version": 3
   },
   "file_extension": ".py",
   "mimetype": "text/x-python",
   "name": "python",
   "nbconvert_exporter": "python",
   "pygments_lexer": "ipython3",
   "version": "3.7.0"
  }
 },
 "nbformat": 4,
 "nbformat_minor": 2
}
