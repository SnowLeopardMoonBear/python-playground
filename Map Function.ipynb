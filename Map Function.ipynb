{
 "cells": [
  {
   "cell_type": "code",
   "execution_count": 8,
   "metadata": {},
   "outputs": [
    {
     "name": "stdout",
     "output_type": "stream",
     "text": [
      "<map object at 0x10c41a080>\n",
      "['one returned', 'two returned', 'three returned']\n"
     ]
    }
   ],
   "source": [
    "test_list = [\"one\", \"two\", \"three\"]\n",
    "def test_function(text):\n",
    "    return (text + \" returned\")\n",
    "\n",
    "#test_function(text)와 같이 argument가 따로 들어가는 형태로 쓰지 않고, 해당 function 객체와 iterable만 넣어준다.\n",
    "map_test = map(test_function, test_list) \n",
    "\n",
    "print(map_test) # map_test엔 map object의 메모리 주소가 리턴되어 할당된다.\n",
    "print(list(map_test)) #map object를 list화 하여, 우리가 보기 좋은 형태로 출력할 수 있다."
   ]
  }
 ],
 "metadata": {
  "kernelspec": {
   "display_name": "Python 3",
   "language": "python",
   "name": "python3"
  },
  "language_info": {
   "codemirror_mode": {
    "name": "ipython",
    "version": 3
   },
   "file_extension": ".py",
   "mimetype": "text/x-python",
   "name": "python",
   "nbconvert_exporter": "python",
   "pygments_lexer": "ipython3",
   "version": "3.7.0"
  }
 },
 "nbformat": 4,
 "nbformat_minor": 2
}
